{
 "cells": [
  {
   "cell_type": "code",
   "execution_count": null,
   "metadata": {},
   "outputs": [],
   "source": [
    "import pandas as pd\n",
    "import seaborn as sns\n",
    "import matplotlib.pyplot as plt\n",
    "\n",
    "data = pd.read_excel('hbdata.xlsx')\n",
    "\n",
    "print(data.head())\n",
    "\n",
    "print(\"\\nSummary statistics for numerical variables:\")\n",
    "print(data.describe())\n",
    "\n",
    "print(\"\\nMissing values:\")\n",
    "print(data.isnull().sum())\n",
    "\n",
    "plt.figure(figsize=(8, 6))\n",
    "sns.countplot(x='hotel', data=data)\n",
    "plt.title('Distribution of Bookings by Hotel Category')\n",
    "plt.xlabel('Hotel Category')\n",
    "plt.ylabel('Number of Bookings')\n",
    "plt.show()\n",
    "\n",
    "plt.figure(figsize=(8, 6))\n",
    "sns.scatterplot(x='lead_time', y='is_canceled', data=data)\n",
    "plt.title('Correlation between Lead Time and Booking Cancellation')\n",
    "plt.xlabel('Lead Time (days)')\n",
    "plt.ylabel('Booking Cancellation (0: Not Canceled, 1: Canceled)')\n",
    "plt.show()\n",
    "\n",
    "plt.figure(figsize=(8, 6))\n",
    "sns.barplot(x='hotel', y='total_of_special_requests', data=data)\n",
    "plt.title('Average Number of Special Requests by Hotel Category')\n",
    "plt.xlabel('Hotel Category')\n",
    "plt.ylabel('Average Number of Special Requests')\n",
    "plt.show()\n",
    "\n",
    "plt.figure(figsize=(10, 6))\n",
    "sns.countplot(x='arrival_date_month', data=data, order=data['arrival_date_month'].value_counts().index[:3])\n",
    "plt.title('Busiest Months for Bookings')\n",
    "plt.xlabel('Month')\n",
    "plt.ylabel('Number of Bookings')\n",
    "plt.xticks(rotation=45)\n",
    "plt.show()"
   ]
  }
 ],
 "metadata": {
  "language_info": {
   "name": "python"
  }
 },
 "nbformat": 4,
 "nbformat_minor": 2
}
